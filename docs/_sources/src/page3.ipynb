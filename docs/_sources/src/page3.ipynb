{
 "cells": [
  {
   "attachments": {},
   "cell_type": "markdown",
   "metadata": {},
   "source": [
    "# Page 3\n",
    "\n",
    "Or is it ?\n",
    "\n",
    "$$f(x) = x^2 + 3x - 4$$\n",
    "\n",
    "L'équation du dessus dans un texte : $f(x) = x^2 + 3x - 4$ "
   ]
  },
  {
   "attachments": {},
   "cell_type": "markdown",
   "metadata": {},
   "source": [
    "La valeur de $f(9)^2 + 3f(4) - 4$ est :\n"
   ]
  },
  {
   "cell_type": "code",
   "execution_count": 8,
   "metadata": {},
   "outputs": [
    {
     "name": "stdout",
     "output_type": "stream",
     "text": [
      "10884\n"
     ]
    }
   ],
   "source": [
    "def f(x):\n",
    "    return x**2 + 3 * x - 4\n",
    "print(f(9)**2 + 3*f(4) - 4)"
   ]
  }
 ],
 "metadata": {
  "kernelspec": {
   "display_name": "Python 3",
   "language": "python",
   "name": "python3"
  },
  "language_info": {
   "codemirror_mode": {
    "name": "ipython",
    "version": 3
   },
   "file_extension": ".py",
   "mimetype": "text/x-python",
   "name": "python",
   "nbconvert_exporter": "python",
   "pygments_lexer": "ipython3",
   "version": "3.11.2"
  },
  "orig_nbformat": 4
 },
 "nbformat": 4,
 "nbformat_minor": 2
}
